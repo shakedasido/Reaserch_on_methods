{
 "cells": [
  {
   "cell_type": "code",
   "execution_count": 1,
   "id": "7e34af40-d2cd-4b6c-a6e2-ec91fb2ea961",
   "metadata": {
    "editable": true,
    "slideshow": {
     "slide_type": ""
    },
    "tags": []
   },
   "outputs": [],
   "source": [
    "import numpy as np\n",
    "import pandas as pd\n",
    "import matplotlib.pyplot as plt\n",
    "from sklearn.metrics import accuracy_score\n",
    "from sklearn.model_selection import train_test_split\n",
    "from sklearn.feature_selection import SelectKBest, f_classif\n",
    "from sklearn.ensemble import RandomForestClassifier\n",
    "from sklearn.datasets import fetch_covtype"
   ]
  },
  {
   "cell_type": "code",
   "execution_count": 2,
   "id": "d821de23-7563-4cff-8727-24f9123ccb8d",
   "metadata": {},
   "outputs": [],
   "source": [
    "import time"
   ]
  },
  {
   "cell_type": "code",
   "execution_count": 3,
   "id": "fcafd975-a782-4ab8-ad4e-6b26b25ef87f",
   "metadata": {
    "editable": true,
    "slideshow": {
     "slide_type": ""
    },
    "tags": []
   },
   "outputs": [],
   "source": [
    "# Load dataset\n",
    "ds = fetch_covtype()"
   ]
  },
  {
   "cell_type": "code",
   "execution_count": 4,
   "id": "380dd984-076f-4224-b4ee-26ec78cc07db",
   "metadata": {
    "editable": true,
    "slideshow": {
     "slide_type": ""
    },
    "tags": []
   },
   "outputs": [],
   "source": [
    "# Convert the dataset to a pandas DataFrame\n",
    "df = pd.DataFrame(ds.data, columns=ds.feature_names)"
   ]
  },
  {
   "cell_type": "code",
   "execution_count": 5,
   "id": "0d41bbbb-5e55-4b04-907b-0738351133e9",
   "metadata": {
    "editable": true,
    "slideshow": {
     "slide_type": ""
    },
    "tags": []
   },
   "outputs": [],
   "source": [
    "# Add the target variable to the dataframe\n",
    "df['Cover_Type'] = ds.target"
   ]
  },
  {
   "cell_type": "code",
   "execution_count": 6,
   "id": "e5e1552c-8dac-48dd-b8ce-30e9fdfa33a7",
   "metadata": {
    "editable": true,
    "slideshow": {
     "slide_type": ""
    },
    "tags": []
   },
   "outputs": [],
   "source": [
    "# Extract features and target\n",
    "y = df['Cover_Type']  # output variable\n",
    "X = df.drop(['Cover_Type'], axis=1)  # features to drop"
   ]
  },
  {
   "cell_type": "code",
   "execution_count": 7,
   "id": "a0a4ee8c-8616-4b1c-ac32-c1678aeab95a",
   "metadata": {
    "editable": true,
    "slideshow": {
     "slide_type": ""
    },
    "tags": []
   },
   "outputs": [],
   "source": [
    "X_train, X_test, y_train, y_test = train_test_split(X, y, random_state=0) #set training and test data"
   ]
  },
  {
   "cell_type": "code",
   "execution_count": 8,
   "id": "dafd91b1-bb14-49ed-8e27-4941caa114ab",
   "metadata": {
    "editable": true,
    "slideshow": {
     "slide_type": ""
    },
    "tags": []
   },
   "outputs": [
    {
     "name": "stdout",
     "output_type": "stream",
     "text": [
      "Time taken for SelectKBest's feature selection: 0.3582792282104492 seconds\n"
     ]
    }
   ],
   "source": [
    "# Start a timer for calculating the elapsed time to perform feature selection with \n",
    "# selectKBest method (f-classif) with `k`=10\n",
    "skb_start_time = time.time()\n",
    "\n",
    "#Feature selection part:\n",
    "sel = SelectKBest(f_classif, k=10)  # use K-best function\n",
    "X_train_t = sel.fit(X_train, y_train)  # apply the function\n",
    "X_test_t = sel.transform(X_test)\n",
    "\n",
    "# End timer\n",
    "skb_end_time = time.time()\n",
    "# Compute elapsed time\n",
    "skb_elapsed_time = skb_end_time - skb_start_time\n",
    "print(\"Time taken for SelectKBest's feature selection:\", skb_elapsed_time, \"seconds\")"
   ]
  },
  {
   "cell_type": "code",
   "execution_count": 13,
   "id": "0d2f4b87-ff5b-4dce-b5de-2442d5f7b88e",
   "metadata": {},
   "outputs": [
    {
     "name": "stdout",
     "output_type": "stream",
     "text": [
      "All features:\n",
      "['Elevation' 'Aspect' 'Slope' 'Horizontal_Distance_To_Hydrology'\n",
      " 'Vertical_Distance_To_Hydrology' 'Horizontal_Distance_To_Roadways'\n",
      " 'Hillshade_9am' 'Hillshade_Noon' 'Hillshade_3pm'\n",
      " 'Horizontal_Distance_To_Fire_Points' 'Wilderness_Area_0'\n",
      " 'Wilderness_Area_1' 'Wilderness_Area_2' 'Wilderness_Area_3' 'Soil_Type_0'\n",
      " 'Soil_Type_1' 'Soil_Type_2' 'Soil_Type_3' 'Soil_Type_4' 'Soil_Type_5'\n",
      " 'Soil_Type_6' 'Soil_Type_7' 'Soil_Type_8' 'Soil_Type_9' 'Soil_Type_10'\n",
      " 'Soil_Type_11' 'Soil_Type_12' 'Soil_Type_13' 'Soil_Type_14'\n",
      " 'Soil_Type_15' 'Soil_Type_16' 'Soil_Type_17' 'Soil_Type_18'\n",
      " 'Soil_Type_19' 'Soil_Type_20' 'Soil_Type_21' 'Soil_Type_22'\n",
      " 'Soil_Type_23' 'Soil_Type_24' 'Soil_Type_25' 'Soil_Type_26'\n",
      " 'Soil_Type_27' 'Soil_Type_28' 'Soil_Type_29' 'Soil_Type_30'\n",
      " 'Soil_Type_31' 'Soil_Type_32' 'Soil_Type_33' 'Soil_Type_34'\n",
      " 'Soil_Type_35' 'Soil_Type_36' 'Soil_Type_37' 'Soil_Type_38'\n",
      " 'Soil_Type_39']\n"
     ]
    }
   ],
   "source": [
    "print(\"All features:\")\n",
    "print(X.columns.values)"
   ]
  },
  {
   "cell_type": "code",
   "execution_count": 9,
   "id": "29d02952-add6-4709-96a1-b3ace3b1b306",
   "metadata": {
    "editable": true,
    "slideshow": {
     "slide_type": ""
    },
    "tags": []
   },
   "outputs": [],
   "source": [
    "x_train_2 = sel.transform(X_train)\n",
    "x_test_2 = sel.transform(X_test)"
   ]
  },
  {
   "cell_type": "code",
   "execution_count": 10,
   "id": "e9cb7509-ded8-4ae8-9418-ff4e596cbced",
   "metadata": {},
   "outputs": [],
   "source": [
    "# random forest classifier with n_estimators=10 (default)\n",
    "classifier = RandomForestClassifier()\n",
    "classifier = classifier.fit(x_train_2,y_train)"
   ]
  },
  {
   "cell_type": "code",
   "execution_count": 11,
   "id": "17c260d7-f0a8-4833-9907-fb12c00bd16e",
   "metadata": {},
   "outputs": [
    {
     "name": "stdout",
     "output_type": "stream",
     "text": [
      "Accuracy is:  0.7077444183596896\n"
     ]
    }
   ],
   "source": [
    "ac_2 = accuracy_score(y_test,classifier.predict(x_test_2))\n",
    "print('Accuracy is: ',ac_2)"
   ]
  },
  {
   "cell_type": "code",
   "execution_count": 12,
   "id": "fdab903b-c17b-40dc-9ab5-f1ba7ac8e8f9",
   "metadata": {},
   "outputs": [
    {
     "data": {
      "image/png": "[encoded data removed]",
      "text/plain": [
       "<Figure size 640x480 with 1 Axes>"
      ]
     },
     "metadata": {},
     "output_type": "display_data"
    }
   ],
   "source": [
    "eps = 1e-10  # Small positive value\n",
    "scores = -np.log10(np.where(sel.pvalues_ > 0, sel.pvalues_, eps))\n",
    "scores /= scores.max()\n",
    "X_indices = np.arange(X.shape[-1])\n",
    "plt.figure(1)\n",
    "plt.clf()\n",
    "plt.bar(X_indices - 0.05, scores, width=0.2)\n",
    "plt.title(\"Feature univariate score\")\n",
    "plt.xlabel(\"Feature number\")\n",
    "plt.ylabel(r\"Univariate score ($-Log(p_{value})$)\")\n",
    "plt.show()"
   ]
  },
  {
   "cell_type": "code",
   "execution_count": 14,
   "id": "dc22deb8-f933-44a1-9add-23770ff5ed4e",
   "metadata": {},
   "outputs": [
    {
     "data": {
      "text/plain": [
       "array([0.00000000e+000, 0.00000000e+000, 0.00000000e+000, 0.00000000e+000,\n",
       "       0.00000000e+000, 0.00000000e+000, 0.00000000e+000, 0.00000000e+000,\n",
       "       0.00000000e+000, 0.00000000e+000, 0.00000000e+000, 0.00000000e+000,\n",
       "       0.00000000e+000, 0.00000000e+000, 0.00000000e+000, 0.00000000e+000,\n",
       "       0.00000000e+000, 0.00000000e+000, 0.00000000e+000, 0.00000000e+000,\n",
       "       1.09931565e-016, 2.26989646e-009, 9.63180967e-107, 0.00000000e+000,\n",
       "       0.00000000e+000, 0.00000000e+000, 0.00000000e+000, 0.00000000e+000,\n",
       "       4.05425155e-012, 5.17699505e-126, 0.00000000e+000, 3.91397538e-311,\n",
       "       1.30350008e-209, 6.08548568e-183, 1.67690813e-207, 0.00000000e+000,\n",
       "       0.00000000e+000, 0.00000000e+000, 3.70979471e-022, 2.09865027e-266,\n",
       "       1.21720001e-036, 1.41008329e-122, 0.00000000e+000, 0.00000000e+000,\n",
       "       0.00000000e+000, 0.00000000e+000, 0.00000000e+000, 1.42072561e-177,\n",
       "       0.00000000e+000, 8.52388061e-109, 0.00000000e+000, 0.00000000e+000,\n",
       "       0.00000000e+000, 0.00000000e+000])"
      ]
     },
     "execution_count": 14,
     "metadata": {},
     "output_type": "execute_result"
    }
   ],
   "source": [
    "sel.pvalues_"
   ]
  },
  {
   "cell_type": "code",
   "execution_count": null,
   "id": "ed2ec973-4025-437f-aef3-1889ebd6e30a",
   "metadata": {},
   "outputs": [],
   "source": []
  }
 ],
 "metadata": {
  "kernelspec": {
   "display_name": "Python 3 (ipykernel)",
   "language": "python",
   "name": "python3"
  },
  "language_info": {
   "codemirror_mode": {
    "name": "ipython",
    "version": 3
   },
   "file_extension": ".py",
   "mimetype": "text/x-python",
   "name": "python",
   "nbconvert_exporter": "python",
   "pygments_lexer": "ipython3",
   "version": "3.10.9"
  }
 },
 "nbformat": 4,
 "nbformat_minor": 5
}
